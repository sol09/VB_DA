{
 "cells": [
  {
   "cell_type": "markdown",
   "id": "6b77edee",
   "metadata": {},
   "source": [
    "# 여자배구 데이터 분석, 경기 결과 예측 프로젝트"
   ]
  },
  {
   "cell_type": "markdown",
   "id": "fe765246",
   "metadata": {},
   "source": [
    "## 라이브러리 import"
   ]
  },
  {
   "cell_type": "code",
   "execution_count": 1,
   "id": "6968b0e7",
   "metadata": {},
   "outputs": [
    {
     "name": "stdout",
     "output_type": "stream",
     "text": [
      "Collecting findspark\n",
      "  Downloading findspark-2.0.1-py2.py3-none-any.whl (4.4 kB)\n",
      "Installing collected packages: findspark\n",
      "Successfully installed findspark-2.0.1\n",
      "Note: you may need to restart the kernel to use updated packages.\n"
     ]
    }
   ],
   "source": [
    "pip install findspark"
   ]
  },
  {
   "cell_type": "code",
   "execution_count": 1,
   "id": "484b3ae0",
   "metadata": {},
   "outputs": [],
   "source": [
    "import findspark as fs\n",
    "\n",
    "fs.init()"
   ]
  },
  {
   "cell_type": "code",
   "execution_count": 2,
   "id": "15f7f02f",
   "metadata": {},
   "outputs": [],
   "source": [
    "# spark 생성\n",
    "\n",
    "import pyspark\n",
    "from pyspark.sql import SparkSession\n",
    "\n",
    "spark = SparkSession.builder.getOrCreate()"
   ]
  },
  {
   "cell_type": "markdown",
   "id": "a9d46208",
   "metadata": {},
   "source": [
    "## 데이터 전처리 pt.2 - 22/03/17"
   ]
  },
  {
   "cell_type": "code",
   "execution_count": 21,
   "id": "4c3b4d82",
   "metadata": {},
   "outputs": [
    {
     "name": "stdout",
     "output_type": "stream",
     "text": [
      "+------+------------+---+------+-----+--------+--------+-------+---+----+---+-------+----+\n",
      "|  name|        team|pos| score|error|setcount|at_srate|at_rate| sv| set| bl|rs_rate|  dg|\n",
      "+------+------------+---+------+-----+--------+--------+-------+---+----+---+-------+----+\n",
      "|임명옥|한국도로공사| Li|1475.0|    3|     117|     0.0|    0.0|0.0|1.05|0.0|  55.24| 5.9|\n",
      "|신연경| IBK기업은행| Li|1158.6|    3|     112|     0.0|    0.0|0.0| 0.6|0.0|  39.43|5.28|\n",
      "|김연견|    현대건설| Li|1099.0|    4|     113|     0.0|    0.0|0.0|0.79|0.0|   39.2|4.96|\n",
      "|오지영|    GS칼텍스| Li| 880.6|    2|      94|     0.0|    0.0|0.0|0.51|0.0|  39.37|3.99|\n",
      "|문슬기|페퍼저축은행| Li| 841.8|    2|      99|     0.0|    0.0|0.0| 0.7|0.0|  32.04| 3.1|\n",
      "|  노란| KGC인삼공사| Li| 819.8|    5|      83|     0.0|    0.0|0.0|0.65|0.0|  40.62|5.01|\n",
      "|김해란|    흥국생명| Li| 596.4|    2|      58|     0.0|    0.0|0.0|1.02|0.0|  31.28|5.78|\n",
      "|도수빈|    흥국생명| Li| 589.2|    3|      60|     0.0|    0.0|0.0|0.63|0.0|  38.38| 4.9|\n",
      "|김세인|페퍼저축은행| Li| 334.4|    0|      84|     0.0|    0.0|0.0|0.23|0.0|  30.56| 2.2|\n",
      "|채선아| KGC인삼공사| Li| 331.2|    1|      37|     0.0|    0.0|0.0|0.68|0.0|  39.34|3.78|\n",
      "|한수진|    GS칼텍스| Li| 222.6|    0|      59|     0.0|    0.0|0.0|0.25|0.0|    0.0|2.25|\n",
      "|한다혜|    GS칼텍스| Li|  86.2|    0|      15|     0.0|    0.0|0.0|0.27|0.0|  51.79| 1.6|\n",
      "|김수빈| IBK기업은행| Li|  83.6|    0|      26|     0.0|    0.0|0.0|0.08|0.0|  26.67| 1.5|\n",
      "|이영주|    현대건설| Li|  62.2|    2|      21|     0.0|    0.0|0.0|0.19|0.0|  26.67|1.33|\n",
      "|김주하|    현대건설| Li|  59.8|    0|       5|     0.0|    0.0|0.0| 1.0|0.0|  33.33| 6.8|\n",
      "|박상미|    흥국생명| Li|  42.2|    0|      16|     0.0|    0.0|0.0| 0.0|0.0|    0.0|1.44|\n",
      "|이은지|페퍼저축은행| Li|   7.8|    0|       4|     0.0|    0.0|0.0| 0.0|0.0|    0.0| 0.5|\n",
      "|김주희|    GS칼텍스| Li|   3.0|    0|       3|     0.0|    0.0|0.0| 0.0|0.0|    0.0| 0.0|\n",
      "|박혜미|한국도로공사| Li|   3.0|    0|       3|     0.0|    0.0|0.0| 0.0|0.0|    0.0| 0.0|\n",
      "|차유정|    GS칼텍스| Li|   3.0|    0|       3|     0.0|    0.0|0.0| 0.0|0.0|    0.0| 0.0|\n",
      "+------+------------+---+------+-----+--------+--------+-------+---+----+---+-------+----+\n",
      "only showing top 20 rows\n",
      "\n"
     ]
    }
   ],
   "source": [
    "# 파일 불러오기\n",
    "data = spark.read.csv(\"hdfs://localhost:9000/data/player_rate.csv\", header=\"true\", inferSchema=\"true\")\n",
    "data.show()"
   ]
  },
  {
   "cell_type": "code",
   "execution_count": 22,
   "id": "1614c517",
   "metadata": {},
   "outputs": [],
   "source": [
    "# 불러온 데이터 테이블로 만들기\n",
    "data.createOrReplaceTempView(\"player\")"
   ]
  },
  {
   "cell_type": "code",
   "execution_count": 23,
   "id": "939ead3a",
   "metadata": {},
   "outputs": [
    {
     "name": "stdout",
     "output_type": "stream",
     "text": [
      "+------+------------+---+--------+-------+---+----+---+-------+----+\n",
      "|  name|        team|pos|at_srate|at_rate| sv| set| bl|rs_rate|  dg|\n",
      "+------+------------+---+--------+-------+---+----+---+-------+----+\n",
      "|임명옥|한국도로공사| Li|     0.0|    0.0|0.0|1.05|0.0|  55.24| 5.9|\n",
      "|신연경| IBK기업은행| Li|     0.0|    0.0|0.0| 0.6|0.0|  39.43|5.28|\n",
      "|김연견|    현대건설| Li|     0.0|    0.0|0.0|0.79|0.0|   39.2|4.96|\n",
      "|오지영|    GS칼텍스| Li|     0.0|    0.0|0.0|0.51|0.0|  39.37|3.99|\n",
      "|문슬기|페퍼저축은행| Li|     0.0|    0.0|0.0| 0.7|0.0|  32.04| 3.1|\n",
      "|  노란| KGC인삼공사| Li|     0.0|    0.0|0.0|0.65|0.0|  40.62|5.01|\n",
      "|김해란|    흥국생명| Li|     0.0|    0.0|0.0|1.02|0.0|  31.28|5.78|\n",
      "|도수빈|    흥국생명| Li|     0.0|    0.0|0.0|0.63|0.0|  38.38| 4.9|\n",
      "|김세인|페퍼저축은행| Li|     0.0|    0.0|0.0|0.23|0.0|  30.56| 2.2|\n",
      "|채선아| KGC인삼공사| Li|     0.0|    0.0|0.0|0.68|0.0|  39.34|3.78|\n",
      "|한수진|    GS칼텍스| Li|     0.0|    0.0|0.0|0.25|0.0|    0.0|2.25|\n",
      "|한다혜|    GS칼텍스| Li|     0.0|    0.0|0.0|0.27|0.0|  51.79| 1.6|\n",
      "|김수빈| IBK기업은행| Li|     0.0|    0.0|0.0|0.08|0.0|  26.67| 1.5|\n",
      "|이영주|    현대건설| Li|     0.0|    0.0|0.0|0.19|0.0|  26.67|1.33|\n",
      "|김주하|    현대건설| Li|     0.0|    0.0|0.0| 1.0|0.0|  33.33| 6.8|\n",
      "|박상미|    흥국생명| Li|     0.0|    0.0|0.0| 0.0|0.0|    0.0|1.44|\n",
      "|이은지|페퍼저축은행| Li|     0.0|    0.0|0.0| 0.0|0.0|    0.0| 0.5|\n",
      "|김주희|    GS칼텍스| Li|     0.0|    0.0|0.0| 0.0|0.0|    0.0| 0.0|\n",
      "|박혜미|한국도로공사| Li|     0.0|    0.0|0.0| 0.0|0.0|    0.0| 0.0|\n",
      "|차유정|    GS칼텍스| Li|     0.0|    0.0|0.0| 0.0|0.0|    0.0| 0.0|\n",
      "+------+------------+---+--------+-------+---+----+---+-------+----+\n",
      "only showing top 20 rows\n",
      "\n"
     ]
    }
   ],
   "source": [
    "player = spark.sql(\"\"\"\n",
    "          select name,team,pos,at_srate,at_rate,sv,set,bl,rs_rate,dg\n",
    "          from player\n",
    "          \"\"\")\n",
    "\n",
    "player.createOrReplaceTempView(\"player\")\n",
    "\n",
    "player.show()"
   ]
  },
  {
   "cell_type": "code",
   "execution_count": 20,
   "id": "32e5247e",
   "metadata": {},
   "outputs": [
    {
     "name": "stdout",
     "output_type": "stream",
     "text": [
      "+--------+------------+---+--------+-------+----+----+----+-------+----+\n",
      "|    name|        team|pos|at_srate|at_rate|  sv| set|  bl|rs_rate|  dg|\n",
      "+--------+------------+---+--------+-------+----+----+----+-------+----+\n",
      "|    캣벨|    흥국생명|  R|    36.6|  29.45|0.16|0.08|0.42|    0.0|3.16|\n",
      "|    켈시|한국도로공사|  R|   42.19|  36.94|0.12|0.01| 0.6|    0.0|2.51|\n",
      "|    모마|    GS칼텍스|  R|   47.58|  41.27| 0.4|0.11|0.36|  33.33|2.38|\n",
      "|  옐레나| KGC인삼공사|  R|   39.67|  34.75|0.16| 0.1|0.59|  14.29|3.19|\n",
      "|  야스민|    현대건설|  R|   42.86|  35.34|0.44|0.09|0.43|  100.0|2.05|\n",
      "|엘리자벳|페퍼저축은행|  R|   41.45|  32.89|0.17|0.03|0.49| -33.33|2.01|\n",
      "|  문정원|한국도로공사|  R|   29.69|  24.89|0.14| 0.3|0.06|  38.73|2.38|\n",
      "|    라셈| IBK기업은행|  R|   34.82|  27.47|0.17|0.06|0.23|    0.0|1.87|\n",
      "|  김다은|    흥국생명|  R|   33.02|  24.19|0.14|0.22| 0.3|  18.69|2.19|\n",
      "|  황연주|    현대건설|  R|   38.82|  35.29|0.07|0.04|0.11|    0.0|0.79|\n",
      "|  이은지|페퍼저축은행|  R|     0.0|    0.0|0.01| 0.0| 0.0|   50.0| 0.2|\n",
      "|  문지윤|    GS칼텍스|  R|    48.0|   40.0| 0.0| 0.0|0.13|    0.0| 0.5|\n",
      "+--------+------------+---+--------+-------+----+----+----+-------+----+\n",
      "\n"
     ]
    }
   ],
   "source": [
    "player = spark.sql(\"\"\"\n",
    "          SELECT * FROM player WHERE name!='하혜진'\n",
    "          \"\"\")\n",
    "\n",
    "player.createOrReplaceTempView(\"player\")\n",
    "\n",
    "spark.sql(\"SELECT * FROM player WHERE pos='R'\").show()"
   ]
  },
  {
   "cell_type": "code",
   "execution_count": 25,
   "id": "ff6aa708",
   "metadata": {},
   "outputs": [
    {
     "name": "stdout",
     "output_type": "stream",
     "text": [
      "+------+------------+---+--------+-------+----+----+----+-------+----+\n",
      "|  name|        team|pos|at_srate|at_rate|  sv| set|  bl|rs_rate|  dg|\n",
      "+------+------------+---+--------+-------+----+----+----+-------+----+\n",
      "|한송이| KGC인삼공사|  C|   39.89|  35.11|0.08|0.23|0.53|  21.05|1.31|\n",
      "|이예담|한국도로공사|  C|     0.0|    0.0| 0.0| 0.0| 0.0|    0.0| 0.0|\n",
      "|이나연|    현대건설|  S|     0.0|    0.0|0.02|3.81| 0.0|    0.0|0.81|\n",
      "|차유정|    GS칼텍스| Li|     0.0|    0.0| 0.0| 0.0| 0.0|    0.0| 0.0|\n",
      "|  이진| IBK기업은행|  S|     0.0| -14.29| 0.0|3.09|0.06|    0.0|0.69|\n",
      "|양효진|    현대건설|  C|   52.48|  47.92|0.21|0.24|0.74|  40.54|1.44|\n",
      "|조송화| IBK기업은행|  S|   15.38|   7.69|0.09|6.73|0.09|    0.0|2.68|\n",
      "|이현지|    현대건설|  L|     0.0|    0.0|0.17| 0.0| 0.0|   25.0|0.08|\n",
      "|한송희|한국도로공사|  L|     0.0|    0.0| 0.0| 0.0| 0.0|    0.0| 0.0|\n",
      "|  이현|페퍼저축은행|  S|   21.62|  16.22|0.13|8.37|0.04|    0.0|2.11|\n",
      "|하혜진|페퍼저축은행|  C|   33.89|  27.52|0.15|0.09|0.39|   10.0|1.14|\n",
      "|육서영| IBK기업은행|  L|    30.0|  18.24|0.03|0.05| 0.0|  16.36|1.18|\n",
      "|채선아| KGC인삼공사|  L|     0.0|    0.0| 0.0| 0.0| 0.0|   75.0| 0.5|\n",
      "|정시영|    현대건설|  C|    50.0|    0.0| 0.0|0.11| 0.0|    0.0|0.22|\n",
      "|김희진| IBK기업은행|  C|   36.08|  29.79|0.15|0.13|0.47|    0.0| 2.2|\n",
      "|최민지|페퍼저축은행|  C|   33.33|  26.67|0.08|0.04|0.12|    0.0|0.64|\n",
      "|김해빈|    GS칼텍스|  L|     0.0|    0.0|0.03|0.02| 0.0|    0.0|0.25|\n",
      "|최가은|페퍼저축은행|  C|    30.4|   23.2|0.17|0.21|0.37|  -5.26| 0.8|\n",
      "|  모마|    GS칼텍스|  R|   47.58|  41.27| 0.4|0.11|0.36|  33.33|2.38|\n",
      "|옐레나| KGC인삼공사|  R|   39.67|  34.75|0.16| 0.1|0.59|  14.29|3.19|\n",
      "+------+------------+---+--------+-------+----+----+----+-------+----+\n",
      "only showing top 20 rows\n",
      "\n"
     ]
    }
   ],
   "source": [
    "ha = spark.sql(\"\"\"\n",
    "          SELECT name,team,'C' as pos,at_srate,at_rate,sv,set,bl,rs_rate,dg\n",
    "          FROM player\n",
    "          WHERE name='하혜진'\n",
    "          UNION\n",
    "          SELECT * FROM player WHERE name!='하혜진'\n",
    "          \"\"\")\n",
    "ha.show()\n",
    "\n",
    "ha.createOrReplaceTempView(\"ha\")"
   ]
  },
  {
   "cell_type": "code",
   "execution_count": 32,
   "id": "0524012a",
   "metadata": {
    "scrolled": true
   },
   "outputs": [
    {
     "name": "stdout",
     "output_type": "stream",
     "text": [
      "+------+------------+---+--------+-------+----+----+----+-------+----+\n",
      "|  name|        team|pos|at_srate|at_rate|  sv| set|  bl|rs_rate|  dg|\n",
      "+------+------------+---+--------+-------+----+----+----+-------+----+\n",
      "|한송이| KGC인삼공사|  C|   39.89|  35.11|0.08|0.23|0.53|  21.05|1.31|\n",
      "|이예담|한국도로공사|  C|     0.0|    0.0| 0.0| 0.0| 0.0|    0.0| 0.0|\n",
      "|양효진|    현대건설|  C|   52.48|  47.92|0.21|0.24|0.74|  40.54|1.44|\n",
      "|하혜진|페퍼저축은행|  C|   33.89|  27.52|0.15|0.09|0.39|   10.0|1.14|\n",
      "|정시영|    현대건설|  C|    50.0|    0.0| 0.0|0.11| 0.0|    0.0|0.22|\n",
      "+------+------------+---+--------+-------+----+----+----+-------+----+\n",
      "only showing top 5 rows\n",
      "\n"
     ]
    }
   ],
   "source": [
    "spark.sql(\"SELECT * FROM ha WHERE pos='C'\").show(5)"
   ]
  },
  {
   "cell_type": "code",
   "execution_count": 31,
   "id": "5ea1b4b4",
   "metadata": {},
   "outputs": [
    {
     "name": "stdout",
     "output_type": "stream",
     "text": [
      "+------+------------+---+--------+-------+----+----+----+-------+----+\n",
      "|  name|        team|pos|at_srate|at_rate|  sv| set|  bl|rs_rate|  dg|\n",
      "+------+------------+---+--------+-------+----+----+----+-------+----+\n",
      "|오세연|    GS칼텍스|  C|   100.0|  100.0| 0.0| 0.0| 0.0|    0.0| 0.0|\n",
      "|김현정| IBK기업은행|  C|   28.57|  17.14|0.04|0.07|0.11|  -25.0|0.52|\n",
      "|이다현|    현대건설|  C|   46.88|  40.63|0.09|0.15|0.74|  37.04|1.05|\n",
      "|이주아|    흥국생명|  C|   36.29|   27.7|0.22|0.18|0.72|  30.56| 1.0|\n",
      "|박은진| KGC인삼공사|  C|   42.24|  38.36|0.11|0.16|0.44|  13.33|0.81|\n",
      "|정호영| KGC인삼공사|  C|   48.37|  42.93|0.11|0.08|0.53|  11.11|0.88|\n",
      "|양효진|    현대건설|  C|   52.48|  47.92|0.21|0.24|0.74|  40.54|1.44|\n",
      "|최정민| IBK기업은행|  C|    34.4|  27.98|0.13|0.08|0.29|    0.0|0.89|\n",
      "|하유정|한국도로공사|  C|   45.45|  36.36| 0.0| 0.0| 0.0|    0.0| 0.4|\n",
      "|김유리|    GS칼텍스|  C|   40.82|  37.76|0.11|0.06|0.15|    0.0|0.58|\n",
      "|김채연|    흥국생명|  C|   34.24|  27.24| 0.1|0.13| 0.4|   35.0|1.15|\n",
      "|하혜진|페퍼저축은행|  C|   33.89|  27.52|0.15|0.09|0.39|   10.0|1.14|\n",
      "|이예담|한국도로공사|  C|     0.0|    0.0| 0.0| 0.0| 0.0|    0.0| 0.0|\n",
      "|정시영|    현대건설|  C|    50.0|    0.0| 0.0|0.11| 0.0|    0.0|0.22|\n",
      "|김희진| IBK기업은행|  C|   36.08|  29.79|0.15|0.13|0.47|    0.0| 2.2|\n",
      "|한송이| KGC인삼공사|  C|   39.89|  35.11|0.08|0.23|0.53|  21.05|1.31|\n",
      "|최가은|페퍼저축은행|  C|    30.4|   23.2|0.17|0.21|0.37|  -5.26| 0.8|\n",
      "|최민지|페퍼저축은행|  C|   33.33|  26.67|0.08|0.04|0.12|    0.0|0.64|\n",
      "|문명화|    GS칼텍스|  C|    38.3|  34.04|0.07|0.09|0.33|    0.0|0.56|\n",
      "|서채원|페퍼저축은행|  C|    20.0|   6.67|0.05|0.05| 0.0|    0.0|0.11|\n",
      "+------+------------+---+--------+-------+----+----+----+-------+----+\n",
      "only showing top 20 rows\n",
      "\n"
     ]
    }
   ],
   "source": [
    "ha = spark.sql(\"\"\"\n",
    "          SELECT * FROM ha\n",
    "          ORDER BY pos\n",
    "          \"\"\")\n",
    "ha.show()\n",
    "\n",
    "ha.createOrReplaceTempView(\"player\")"
   ]
  },
  {
   "cell_type": "code",
   "execution_count": 33,
   "id": "b846719b",
   "metadata": {},
   "outputs": [
    {
     "data": {
      "text/plain": [
       "141"
      ]
     },
     "execution_count": 33,
     "metadata": {},
     "output_type": "execute_result"
    }
   ],
   "source": [
    "ha.count()"
   ]
  },
  {
   "cell_type": "code",
   "execution_count": 43,
   "id": "65f92a40",
   "metadata": {},
   "outputs": [],
   "source": [
    "player = ha"
   ]
  },
  {
   "cell_type": "markdown",
   "id": "baf5c1a3",
   "metadata": {},
   "source": [
    "## 데이터 시각화 - 22/3/17"
   ]
  },
  {
   "cell_type": "code",
   "execution_count": 40,
   "id": "23222176",
   "metadata": {},
   "outputs": [
    {
     "name": "stdout",
     "output_type": "stream",
     "text": [
      "Requirement already satisfied: matplotlib in c:\\users\\admin\\anaconda3\\lib\\site-packages (3.5.1)\n",
      "Requirement already satisfied: pyparsing>=2.2.1 in c:\\users\\admin\\anaconda3\\lib\\site-packages (from matplotlib) (3.0.4)\n",
      "Requirement already satisfied: kiwisolver>=1.0.1 in c:\\users\\admin\\anaconda3\\lib\\site-packages (from matplotlib) (1.4.0)\n",
      "Requirement already satisfied: pillow>=6.2.0 in c:\\users\\admin\\anaconda3\\lib\\site-packages (from matplotlib) (8.4.0)\n",
      "Requirement already satisfied: cycler>=0.10 in c:\\users\\admin\\anaconda3\\lib\\site-packages (from matplotlib) (0.11.0)\n",
      "Requirement already satisfied: numpy>=1.17 in c:\\users\\admin\\anaconda3\\lib\\site-packages (from matplotlib) (1.21.2)\n",
      "Requirement already satisfied: python-dateutil>=2.7 in c:\\users\\admin\\anaconda3\\lib\\site-packages (from matplotlib) (2.8.2)\n",
      "Requirement already satisfied: fonttools>=4.22.0 in c:\\users\\admin\\anaconda3\\lib\\site-packages (from matplotlib) (4.30.0)\n",
      "Requirement already satisfied: packaging>=20.0 in c:\\users\\admin\\anaconda3\\lib\\site-packages (from matplotlib) (21.0)\n",
      "Requirement already satisfied: typing-extensions in c:\\users\\admin\\anaconda3\\lib\\site-packages (from kiwisolver>=1.0.1->matplotlib) (3.10.0.2)\n",
      "Requirement already satisfied: six>=1.5 in c:\\users\\admin\\anaconda3\\lib\\site-packages (from python-dateutil>=2.7->matplotlib) (1.16.0)\n",
      "Note: you may need to restart the kernel to use updated packages.\n"
     ]
    }
   ],
   "source": [
    "pip install matplotlib"
   ]
  },
  {
   "cell_type": "code",
   "execution_count": 41,
   "id": "62588bf6",
   "metadata": {},
   "outputs": [
    {
     "name": "stdout",
     "output_type": "stream",
     "text": [
      "Collecting seabornNote: you may need to restart the kernel to use updated packages.\n"
     ]
    },
    {
     "name": "stderr",
     "output_type": "stream",
     "text": [
      "ERROR: pip's dependency resolver does not currently take into account all the packages that are installed. This behaviour is the source of the following dependency conflicts.\n",
      "tf-models-official 2.3.0 requires Cython, which is not installed.\n",
      "resampy 0.2.2 requires numba>=0.32, which is not installed.\n",
      "librosa 0.8.1 requires numba>=0.43.0, which is not installed.\n",
      "librosa 0.8.1 requires scikit-learn!=0.19.0,>=0.14.0, which is not installed.\n"
     ]
    },
    {
     "name": "stdout",
     "output_type": "stream",
     "text": [
      "\n",
      "  Downloading seaborn-0.11.2-py3-none-any.whl (292 kB)\n",
      "Requirement already satisfied: matplotlib>=2.2 in c:\\users\\admin\\anaconda3\\lib\\site-packages (from seaborn) (3.5.1)\n",
      "Requirement already satisfied: pandas>=0.23 in c:\\users\\admin\\anaconda3\\lib\\site-packages (from seaborn) (1.3.5)\n",
      "Requirement already satisfied: numpy>=1.15 in c:\\users\\admin\\anaconda3\\lib\\site-packages (from seaborn) (1.21.2)\n",
      "Collecting scipy>=1.0\n",
      "  Downloading scipy-1.7.3-cp37-cp37m-win_amd64.whl (34.1 MB)\n",
      "Requirement already satisfied: python-dateutil>=2.7 in c:\\users\\admin\\anaconda3\\lib\\site-packages (from matplotlib>=2.2->seaborn) (2.8.2)\n",
      "Requirement already satisfied: pillow>=6.2.0 in c:\\users\\admin\\anaconda3\\lib\\site-packages (from matplotlib>=2.2->seaborn) (8.4.0)\n",
      "Requirement already satisfied: fonttools>=4.22.0 in c:\\users\\admin\\anaconda3\\lib\\site-packages (from matplotlib>=2.2->seaborn) (4.30.0)\n",
      "Requirement already satisfied: packaging>=20.0 in c:\\users\\admin\\anaconda3\\lib\\site-packages (from matplotlib>=2.2->seaborn) (21.0)\n",
      "Requirement already satisfied: kiwisolver>=1.0.1 in c:\\users\\admin\\anaconda3\\lib\\site-packages (from matplotlib>=2.2->seaborn) (1.4.0)\n",
      "Requirement already satisfied: pyparsing>=2.2.1 in c:\\users\\admin\\anaconda3\\lib\\site-packages (from matplotlib>=2.2->seaborn) (3.0.4)\n",
      "Requirement already satisfied: cycler>=0.10 in c:\\users\\admin\\anaconda3\\lib\\site-packages (from matplotlib>=2.2->seaborn) (0.11.0)\n",
      "Requirement already satisfied: typing-extensions in c:\\users\\admin\\anaconda3\\lib\\site-packages (from kiwisolver>=1.0.1->matplotlib>=2.2->seaborn) (3.10.0.2)\n",
      "Requirement already satisfied: pytz>=2017.3 in c:\\users\\admin\\anaconda3\\lib\\site-packages (from pandas>=0.23->seaborn) (2021.3)\n",
      "Requirement already satisfied: six>=1.5 in c:\\users\\admin\\anaconda3\\lib\\site-packages (from python-dateutil>=2.7->matplotlib>=2.2->seaborn) (1.16.0)\n",
      "Installing collected packages: scipy, seaborn\n",
      "Successfully installed scipy-1.7.3 seaborn-0.11.2\n"
     ]
    }
   ],
   "source": [
    "pip install seaborn"
   ]
  },
  {
   "cell_type": "code",
   "execution_count": 42,
   "id": "fb8f0f52",
   "metadata": {},
   "outputs": [],
   "source": [
    "import matplotlib.pyplot as plt\n",
    "import seaborn as sns"
   ]
  },
  {
   "cell_type": "code",
   "execution_count": 58,
   "id": "71e4984b",
   "metadata": {},
   "outputs": [],
   "source": [
    "'''at_rate_show = player['pos'].plot( kind='hist', facecolor='lightblue')\n",
    "at_rate_show.set_title(\"Player's Position\")\n",
    "at_rate_show.set_xlabel('Player Position')\n",
    "at_rate_show.set_ylabel('Counts')\n",
    "plt.suptitle('')'''\n",
    "plt.show()"
   ]
  },
  {
   "cell_type": "code",
   "execution_count": null,
   "id": "50011fbc",
   "metadata": {},
   "outputs": [],
   "source": []
  },
  {
   "cell_type": "code",
   "execution_count": null,
   "id": "4b17b168",
   "metadata": {},
   "outputs": [],
   "source": []
  },
  {
   "cell_type": "code",
   "execution_count": 44,
   "id": "4c1f2127",
   "metadata": {},
   "outputs": [],
   "source": [
    "# 선수 데이터 저장 @ 하둡\n",
    "\n",
    "player_rate2.write.format('csv').save('hdfs://localhost:9000/data/player_rate.csv',header='true')"
   ]
  },
  {
   "cell_type": "code",
   "execution_count": 45,
   "id": "60b37795",
   "metadata": {},
   "outputs": [
    {
     "name": "stdout",
     "output_type": "stream",
     "text": [
      "+------+------------+---+------+-----+--------+--------+-------+---+----+---+-------+----+\n",
      "|  name|        team|pos| score|error|setcount|at_srate|at_rate| sv| set| bl|rs_rate|  dg|\n",
      "+------+------------+---+------+-----+--------+--------+-------+---+----+---+-------+----+\n",
      "|임명옥|한국도로공사| Li|1475.0|    3|     117|     0.0|    0.0|0.0|1.05|0.0|  55.24| 5.9|\n",
      "|신연경| IBK기업은행| Li|1158.6|    3|     112|     0.0|    0.0|0.0| 0.6|0.0|  39.43|5.28|\n",
      "|김연견|    현대건설| Li|1099.0|    4|     113|     0.0|    0.0|0.0|0.79|0.0|   39.2|4.96|\n",
      "|오지영|    GS칼텍스| Li| 880.6|    2|      94|     0.0|    0.0|0.0|0.51|0.0|  39.37|3.99|\n",
      "|문슬기|페퍼저축은행| Li| 841.8|    2|      99|     0.0|    0.0|0.0| 0.7|0.0|  32.04| 3.1|\n",
      "+------+------------+---+------+-----+--------+--------+-------+---+----+---+-------+----+\n",
      "only showing top 5 rows\n",
      "\n"
     ]
    }
   ],
   "source": [
    "data = spark.read.csv(\"hdfs://localhost:9000/data/player_rate.csv\", header='true', inferSchema='true')\n",
    "data.show(5)"
   ]
  },
  {
   "cell_type": "code",
   "execution_count": 46,
   "id": "7044f1d7",
   "metadata": {},
   "outputs": [],
   "source": [
    "# 구단별 데이터 저장 @ 하둡\n",
    "\n",
    "hgun_rate.write.format('csv').save('hdfs://localhost:9000/data/hgun_rate.csv',header='true')\n",
    "dogong_rate.write.format('csv').save('hdfs://localhost:9000/data/dogong_rate.csv',header='true')\n",
    "gscal_rate.write.format('csv').save('hdfs://localhost:9000/data/gscal_rate.csv',header='true')\n",
    "insam_rate.write.format('csv').save('hdfs://localhost:9000/data/insam_rate.csv',header='true')\n",
    "ibk_rate.write.format('csv').save('hdfs://localhost:9000/data/ibk_rate.csv',header='true')\n",
    "hguk_rate.write.format('csv').save('hdfs://localhost:9000/data/hguk_rate.csv',header='true')\n",
    "pepper_rate.write.format('csv').save('hdfs://localhost:9000/data/pepper_rate.csv',header='true')"
   ]
  },
  {
   "cell_type": "code",
   "execution_count": 47,
   "id": "01b6341a",
   "metadata": {},
   "outputs": [
    {
     "name": "stdout",
     "output_type": "stream",
     "text": [
      "+------+------------+---+------+-----+--------+--------+-------+----+----+----+-------+----+\n",
      "|  name|        team|pos| score|error|setcount|at_srate|at_rate|  sv| set|  bl|rs_rate|  dg|\n",
      "+------+------------+---+------+-----+--------+--------+-------+----+----+----+-------+----+\n",
      "|문슬기|페퍼저축은행| Li| 841.8|    2|      99|     0.0|    0.0| 0.0| 0.7| 0.0|  32.04| 3.1|\n",
      "|김세인|페퍼저축은행| Li| 334.4|    0|      84|     0.0|    0.0| 0.0|0.23| 0.0|  30.56| 2.2|\n",
      "|이은지|페퍼저축은행| Li|   7.8|    0|       4|     0.0|    0.0| 0.0| 0.0| 0.0|    0.0| 0.5|\n",
      "|이한비|페퍼저축은행|  L|1930.4|   91|     105|   30.09|  25.03| 0.1| 0.2|0.12|  29.35|3.18|\n",
      "|박경현|페퍼저축은행|  L|1714.8|   94|      96|   35.57|  30.66|0.16|0.23| 0.1|  22.13|2.86|\n",
      "+------+------------+---+------+-----+--------+--------+-------+----+----+----+-------+----+\n",
      "only showing top 5 rows\n",
      "\n"
     ]
    }
   ],
   "source": [
    "# 데이터 잘 저장됐는지 확인\n",
    "\n",
    "data = spark.read.csv(\"hdfs://localhost:9000/data/pepper_rate.csv\", header='true', inferSchema=\"true\")\n",
    "data.show(5)"
   ]
  }
 ],
 "metadata": {
  "kernelspec": {
   "display_name": "Python 3 (ipykernel)",
   "language": "python",
   "name": "python3"
  },
  "language_info": {
   "codemirror_mode": {
    "name": "ipython",
    "version": 3
   },
   "file_extension": ".py",
   "mimetype": "text/x-python",
   "name": "python",
   "nbconvert_exporter": "python",
   "pygments_lexer": "ipython3",
   "version": "3.7.4"
  }
 },
 "nbformat": 4,
 "nbformat_minor": 5
}
