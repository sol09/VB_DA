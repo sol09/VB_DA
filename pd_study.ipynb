{
 "cells": [
  {
   "cell_type": "code",
   "execution_count": 2,
   "id": "4354a355",
   "metadata": {},
   "outputs": [],
   "source": [
    "import pandas as pd"
   ]
  },
  {
   "cell_type": "code",
   "execution_count": 4,
   "id": "c79ff8a7",
   "metadata": {},
   "outputs": [
    {
     "data": {
      "text/plain": [
       "0    홍길동\n",
       "1     96\n",
       "2     72\n",
       "3     91\n",
       "4     94\n",
       "5     96\n",
       "dtype: object"
      ]
     },
     "execution_count": 4,
     "metadata": {},
     "output_type": "execute_result"
    }
   ],
   "source": [
    "pd.Series(['홍길동',96,72,91,94,96])"
   ]
  },
  {
   "cell_type": "code",
   "execution_count": 5,
   "id": "778c4659",
   "metadata": {},
   "outputs": [
    {
     "data": {
      "text/plain": [
       "Index(['이름', '통솔', '무력', '지력', '정치', '매력'], dtype='object')"
      ]
     },
     "execution_count": 5,
     "metadata": {},
     "output_type": "execute_result"
    }
   ],
   "source": [
    "s2 = pd.Series(['조조',96,72,91,94,96], index=['이름','통솔','무력','지력','정치','매력'])\n",
    "\n",
    "s2.index"
   ]
  },
  {
   "cell_type": "code",
   "execution_count": 6,
   "id": "a0f7ce7c",
   "metadata": {},
   "outputs": [
    {
     "data": {
      "text/plain": [
       "array(['조조', 96, 72, 91, 94, 96], dtype=object)"
      ]
     },
     "execution_count": 6,
     "metadata": {},
     "output_type": "execute_result"
    }
   ],
   "source": [
    "s2.values"
   ]
  },
  {
   "cell_type": "code",
   "execution_count": 7,
   "id": "8290bbc6",
   "metadata": {},
   "outputs": [
    {
     "data": {
      "text/plain": [
       "이름    조운\n",
       "통솔    91\n",
       "무력    97\n",
       "지력    76\n",
       "정치    65\n",
       "매력    81\n",
       "dtype: object"
      ]
     },
     "execution_count": 7,
     "metadata": {},
     "output_type": "execute_result"
    }
   ],
   "source": [
    "infos = {\"이름\":\"조운\", \"통솔\":91, \"무력\":97, \"지력\":76, \"정치\":65, \"매력\":81}\n",
    "pd.Series(infos)"
   ]
  },
  {
   "cell_type": "code",
   "execution_count": 8,
   "id": "0380e1a0",
   "metadata": {},
   "outputs": [
    {
     "data": {
      "text/plain": [
       "이름    조조\n",
       "무력    72\n",
       "지력    91\n",
       "정치    94\n",
       "매력    96\n",
       "통솔    96\n",
       "dtype: object"
      ]
     },
     "execution_count": 8,
     "metadata": {},
     "output_type": "execute_result"
    }
   ],
   "source": [
    "s2.reindex(['이름','무력','지력','정치','매력','통솔'])"
   ]
  },
  {
   "cell_type": "code",
   "execution_count": 10,
   "id": "4a74d47f",
   "metadata": {},
   "outputs": [
    {
     "data": {
      "text/plain": [
       "'조조'"
      ]
     },
     "execution_count": 10,
     "metadata": {},
     "output_type": "execute_result"
    }
   ],
   "source": [
    "c = pd.Series(['조조',96,72,91,94,96], index=['이름','통솔','무력','지력','정치','매력'])\n",
    "\n",
    "c[0]"
   ]
  },
  {
   "cell_type": "code",
   "execution_count": 11,
   "id": "cc804992",
   "metadata": {},
   "outputs": [
    {
     "data": {
      "text/plain": [
       "'조조'"
      ]
     },
     "execution_count": 11,
     "metadata": {},
     "output_type": "execute_result"
    }
   ],
   "source": [
    "c['이름']"
   ]
  },
  {
   "cell_type": "code",
   "execution_count": 12,
   "id": "3bb19aa9",
   "metadata": {},
   "outputs": [
    {
     "data": {
      "text/plain": [
       "72"
      ]
     },
     "execution_count": 12,
     "metadata": {},
     "output_type": "execute_result"
    }
   ],
   "source": [
    "c.loc['무력']"
   ]
  },
  {
   "cell_type": "code",
   "execution_count": 13,
   "id": "adcbe72c",
   "metadata": {},
   "outputs": [
    {
     "data": {
      "text/plain": [
       "이름    조조\n",
       "무력    72\n",
       "dtype: object"
      ]
     },
     "execution_count": 13,
     "metadata": {},
     "output_type": "execute_result"
    }
   ],
   "source": [
    "c[['이름','무력']]"
   ]
  },
  {
   "cell_type": "code",
   "execution_count": 14,
   "id": "ffc73729",
   "metadata": {},
   "outputs": [
    {
     "data": {
      "text/plain": [
       "Series([], dtype: object)"
      ]
     },
     "execution_count": 14,
     "metadata": {},
     "output_type": "execute_result"
    }
   ],
   "source": [
    "c[c.isnull()]"
   ]
  },
  {
   "cell_type": "code",
   "execution_count": 15,
   "id": "ec63e3d3",
   "metadata": {},
   "outputs": [
    {
     "data": {
      "text/plain": [
       "이름    조조\n",
       "통솔    96\n",
       "무력    72\n",
       "지력    91\n",
       "정치    94\n",
       "매력    96\n",
       "dtype: object"
      ]
     },
     "execution_count": 15,
     "metadata": {},
     "output_type": "execute_result"
    }
   ],
   "source": [
    "c[c.notnull()]"
   ]
  },
  {
   "cell_type": "code",
   "execution_count": 17,
   "id": "da2a133d",
   "metadata": {},
   "outputs": [
    {
     "data": {
      "text/plain": [
       "이름     조조\n",
       "통솔     96\n",
       "무력    100\n",
       "지력     91\n",
       "정치     94\n",
       "매력     96\n",
       "dtype: object"
      ]
     },
     "execution_count": 17,
     "metadata": {},
     "output_type": "execute_result"
    }
   ],
   "source": [
    "c['무력'] = 100\n",
    "c"
   ]
  },
  {
   "cell_type": "code",
   "execution_count": 18,
   "id": "992c18f8",
   "metadata": {},
   "outputs": [
    {
     "data": {
      "text/plain": [
       "이름     조조\n",
       "통솔     96\n",
       "무력    120\n",
       "지력    100\n",
       "정치     94\n",
       "매력     96\n",
       "dtype: object"
      ]
     },
     "execution_count": 18,
     "metadata": {},
     "output_type": "execute_result"
    }
   ],
   "source": [
    "c[['무력','지력']] = (120,100)\n",
    "c"
   ]
  },
  {
   "cell_type": "code",
   "execution_count": 19,
   "id": "9b4516c0",
   "metadata": {},
   "outputs": [
    {
     "data": {
      "text/plain": [
       "통솔     96\n",
       "무력    120\n",
       "지력    100\n",
       "정치     94\n",
       "매력     96\n",
       "dtype: object"
      ]
     },
     "execution_count": 19,
     "metadata": {},
     "output_type": "execute_result"
    }
   ],
   "source": [
    "del c['이름']\n",
    "c"
   ]
  },
  {
   "cell_type": "code",
   "execution_count": 20,
   "id": "438c0658",
   "metadata": {},
   "outputs": [
    {
     "data": {
      "text/plain": [
       "통솔     96\n",
       "지력    100\n",
       "정치     94\n",
       "매력     96\n",
       "dtype: object"
      ]
     },
     "execution_count": 20,
     "metadata": {},
     "output_type": "execute_result"
    }
   ],
   "source": [
    "c.drop('무력')"
   ]
  },
  {
   "cell_type": "code",
   "execution_count": 21,
   "id": "ba2d7ac4",
   "metadata": {},
   "outputs": [
    {
     "data": {
      "text/plain": [
       "통솔     96\n",
       "무력    120\n",
       "지력    100\n",
       "정치     94\n",
       "매력     96\n",
       "dtype: object"
      ]
     },
     "execution_count": 21,
     "metadata": {},
     "output_type": "execute_result"
    }
   ],
   "source": [
    "c"
   ]
  },
  {
   "cell_type": "code",
   "execution_count": 22,
   "id": "e63dea98",
   "metadata": {},
   "outputs": [
    {
     "data": {
      "text/plain": [
       "통솔     96\n",
       "지력    100\n",
       "정치     94\n",
       "매력     96\n",
       "dtype: object"
      ]
     },
     "execution_count": 22,
     "metadata": {},
     "output_type": "execute_result"
    }
   ],
   "source": [
    "c.drop('무력', inplace=True)\n",
    "c"
   ]
  },
  {
   "cell_type": "code",
   "execution_count": 23,
   "id": "4321ae1a",
   "metadata": {},
   "outputs": [],
   "source": [
    "c = pd.Series(['조조',96,72,91,94,96], index=['이름','통솔','무력','지력','정치','매력'])"
   ]
  },
  {
   "cell_type": "code",
   "execution_count": 24,
   "id": "91df0a8e",
   "metadata": {},
   "outputs": [
    {
     "data": {
      "text/plain": [
       "이름    조조\n",
       "통솔    96\n",
       "무력    72\n",
       "지력    91\n",
       "정치    94\n",
       "매력    96\n",
       "dtype: object"
      ]
     },
     "execution_count": 24,
     "metadata": {},
     "output_type": "execute_result"
    }
   ],
   "source": [
    "c"
   ]
  },
  {
   "cell_type": "code",
   "execution_count": 25,
   "id": "4c8d4df6",
   "metadata": {},
   "outputs": [
    {
     "data": {
      "text/plain": [
       "이름    조조\n",
       "통솔    96\n",
       "무력    72\n",
       "지력    91\n",
       "정치    94\n",
       "매력    96\n",
       "Name: person, dtype: object"
      ]
     },
     "execution_count": 25,
     "metadata": {},
     "output_type": "execute_result"
    }
   ],
   "source": [
    "c.name = 'person'\n",
    "c"
   ]
  },
  {
   "cell_type": "code",
   "execution_count": 26,
   "id": "6a3a3fbc",
   "metadata": {},
   "outputs": [
    {
     "data": {
      "text/plain": [
       "'person'"
      ]
     },
     "execution_count": 26,
     "metadata": {},
     "output_type": "execute_result"
    }
   ],
   "source": [
    "c.name"
   ]
  },
  {
   "cell_type": "code",
   "execution_count": 27,
   "id": "14dbe900",
   "metadata": {},
   "outputs": [
    {
     "data": {
      "text/plain": [
       "Index(['이름', '통솔', '무력', '지력', '정치', '매력'], dtype='object')"
      ]
     },
     "execution_count": 27,
     "metadata": {},
     "output_type": "execute_result"
    }
   ],
   "source": [
    "c.index"
   ]
  },
  {
   "cell_type": "code",
   "execution_count": 28,
   "id": "d7afe2bf",
   "metadata": {},
   "outputs": [
    {
     "data": {
      "text/plain": [
       "array(['조조', 96, 72, 91, 94, 96], dtype=object)"
      ]
     },
     "execution_count": 28,
     "metadata": {},
     "output_type": "execute_result"
    }
   ],
   "source": [
    "c.values"
   ]
  }
 ],
 "metadata": {
  "kernelspec": {
   "display_name": "Python 3 (ipykernel)",
   "language": "python",
   "name": "python3"
  },
  "language_info": {
   "codemirror_mode": {
    "name": "ipython",
    "version": 3
   },
   "file_extension": ".py",
   "mimetype": "text/x-python",
   "name": "python",
   "nbconvert_exporter": "python",
   "pygments_lexer": "ipython3",
   "version": "3.7.4"
  }
 },
 "nbformat": 4,
 "nbformat_minor": 5
}
