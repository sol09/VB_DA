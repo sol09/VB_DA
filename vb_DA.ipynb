{
 "cells": [
  {
   "cell_type": "markdown",
   "id": "6b77edee",
   "metadata": {},
   "source": [
    "# 여자배구 데이터 분석, 경기 결과 예측 프로젝트"
   ]
  },
  {
   "cell_type": "markdown",
   "id": "fe765246",
   "metadata": {},
   "source": [
    "## 라이브러리 import"
   ]
  },
  {
   "cell_type": "code",
   "execution_count": 1,
   "id": "6968b0e7",
   "metadata": {},
   "outputs": [
    {
     "name": "stdout",
     "output_type": "stream",
     "text": [
      "Collecting findspark\n",
      "  Downloading findspark-2.0.1-py2.py3-none-any.whl (4.4 kB)\n",
      "Installing collected packages: findspark\n",
      "Successfully installed findspark-2.0.1\n",
      "Note: you may need to restart the kernel to use updated packages.\n"
     ]
    }
   ],
   "source": [
    "pip install findspark"
   ]
  },
  {
   "cell_type": "code",
   "execution_count": 1,
   "id": "484b3ae0",
   "metadata": {},
   "outputs": [],
   "source": [
    "import findspark as fs\n",
    "\n",
    "fs.init()"
   ]
  },
  {
   "cell_type": "code",
   "execution_count": 2,
   "id": "15f7f02f",
   "metadata": {},
   "outputs": [],
   "source": [
    "# spark 생성\n",
    "\n",
    "import pyspark\n",
    "from pyspark.sql import SparkSession\n",
    "\n",
    "spark = SparkSession.builder.getOrCreate()"
   ]
  },
  {
   "cell_type": "markdown",
   "id": "a9d46208",
   "metadata": {},
   "source": [
    "## 데이터 전처리 - 22/03/12"
   ]
  },
  {
   "cell_type": "code",
   "execution_count": 3,
   "id": "756c3882",
   "metadata": {},
   "outputs": [],
   "source": [
    "data = spark.read.csv(\"hdfs://localhost:9000/data/player.csv\", header=\"true\", inferSchema=\"true\")"
   ]
  },
  {
   "cell_type": "code",
   "execution_count": 4,
   "id": "6f914e68",
   "metadata": {},
   "outputs": [
    {
     "name": "stdout",
     "output_type": "stream",
     "text": [
      "+---+------+------------+---+------+-----+--------+------+-------+-------+--------+-------+------+-------+-------+-------+\n",
      "|_c0|  name|        team|pos| score|error|setcount|at_try|at_succ|sv_succ|set_succ|bl_succ|rs_try|rs_corr|rs_fail|dg_succ|\n",
      "+---+------+------------+---+------+-----+--------+------+-------+-------+--------+-------+------+-------+-------+-------+\n",
      "|  1|임명옥|한국도로공사| Li|1475.0|    3|     117|     1|      0|      0|     123|      0|   677|    390|     16|    690|\n",
      "|  2|신연경| IBK기업은행| Li|1158.6|    3|     112|     1|      0|      0|      67|      0|   525|    229|     22|    591|\n",
      "|  3|김연견|    현대건설| Li|1099.0|    4|     113|     0|      0|      0|      89|      0|   477|    213|     26|    560|\n",
      "|  4|오지영|    GS칼텍스| Li| 880.6|    2|      94|     1|      0|      0|      48|      0|   541|    249|     36|    375|\n",
      "|  5|문슬기|페퍼저축은행| Li| 841.8|    2|      99|     1|      0|      0|      69|      0|   568|    224|     42|    307|\n",
      "|  6|  노란| KGC인삼공사| Li| 819.8|    5|      83|     3|      0|      0|      54|      0|   357|    157|     12|    416|\n",
      "|  7|김해란|    흥국생명| Li| 596.4|    2|      58|     0|      0|      0|      59|      0|   211|     82|     16|    335|\n",
      "|  8|도수빈|    흥국생명| Li| 589.2|    3|      60|     1|      0|      0|      38|      0|   271|    116|     12|    294|\n",
      "|  9|김세인|페퍼저축은행| Li| 334.4|    0|      84|     0|      0|      0|      19|      0|    36|     11|      0|    185|\n",
      "| 10|채선아| KGC인삼공사| Li| 331.2|    1|      37|     0|      0|      0|      25|      0|   183|     82|     10|    140|\n",
      "| 11|한수진|    GS칼텍스| Li| 222.6|    0|      59|     0|      0|      0|      15|      0|     0|      0|      0|    133|\n",
      "| 12|한다혜|    GS칼텍스| Li|  86.2|    0|      15|     0|      0|      0|       4|      0|    56|     29|      0|     24|\n",
      "| 13|김수빈| IBK기업은행| Li|  83.6|    0|      26|     0|      0|      0|       2|      0|    15|      5|      1|     39|\n",
      "| 14|이영주|    현대건설| Li|  62.2|    2|      21|     1|      0|      0|       4|      0|    15|      6|      2|     28|\n",
      "| 15|김주하|    현대건설| Li|  59.8|    0|       5|     0|      0|      0|       5|      0|    24|     11|      3|     34|\n",
      "| 16|박상미|    흥국생명| Li|  42.2|    0|      16|     0|      0|      0|       0|      0|     3|      1|      1|     23|\n",
      "| 17|이은지|페퍼저축은행| Li|   7.8|    0|       4|     0|      0|      0|       0|      0|     0|      0|      0|      2|\n",
      "| 18|김주희|    GS칼텍스| Li|   3.0|    0|       3|     0|      0|      0|       0|      0|     0|      0|      0|      0|\n",
      "| 19|박혜미|한국도로공사| Li|   3.0|    0|       3|     0|      0|      0|       0|      0|     0|      0|      0|      0|\n",
      "| 20|차유정|    GS칼텍스| Li|   3.0|    0|       3|     0|      0|      0|       0|      0|     0|      0|      0|      0|\n",
      "+---+------+------------+---+------+-----+--------+------+-------+-------+--------+-------+------+-------+-------+-------+\n",
      "only showing top 20 rows\n",
      "\n"
     ]
    }
   ],
   "source": [
    "data.show()"
   ]
  },
  {
   "cell_type": "code",
   "execution_count": 15,
   "id": "4e00794e",
   "metadata": {},
   "outputs": [],
   "source": [
    "data.createOrReplaceTempView(\"player\")"
   ]
  },
  {
   "cell_type": "code",
   "execution_count": 23,
   "id": "83452315",
   "metadata": {},
   "outputs": [
    {
     "name": "stdout",
     "output_type": "stream",
     "text": [
      "+---+------+------------+---+------+\n",
      "|_c0|  name|        team|pos| score|\n",
      "+---+------+------------+---+------+\n",
      "|  1|임명옥|한국도로공사| Li|1475.0|\n",
      "|  2|신연경| IBK기업은행| Li|1158.6|\n",
      "|  3|김연견|    현대건설| Li|1099.0|\n",
      "|  4|오지영|    GS칼텍스| Li| 880.6|\n",
      "|  5|문슬기|페퍼저축은행| Li| 841.8|\n",
      "|  6|  노란| KGC인삼공사| Li| 819.8|\n",
      "|  7|김해란|    흥국생명| Li| 596.4|\n",
      "|  8|도수빈|    흥국생명| Li| 589.2|\n",
      "|  9|김세인|페퍼저축은행| Li| 334.4|\n",
      "| 10|채선아| KGC인삼공사| Li| 331.2|\n",
      "| 11|한수진|    GS칼텍스| Li| 222.6|\n",
      "| 12|한다혜|    GS칼텍스| Li|  86.2|\n",
      "| 13|김수빈| IBK기업은행| Li|  83.6|\n",
      "| 14|이영주|    현대건설| Li|  62.2|\n",
      "| 15|김주하|    현대건설| Li|  59.8|\n",
      "| 16|박상미|    흥국생명| Li|  42.2|\n",
      "| 17|이은지|페퍼저축은행| Li|   7.8|\n",
      "| 18|김주희|    GS칼텍스| Li|   3.0|\n",
      "| 19|박혜미|한국도로공사| Li|   3.0|\n",
      "| 20|차유정|    GS칼텍스| Li|   3.0|\n",
      "+---+------+------------+---+------+\n",
      "only showing top 20 rows\n",
      "\n"
     ]
    }
   ],
   "source": [
    "player = spark.sql(\"select _c0,name,team,pos,score from player\")\n",
    "player.show()"
   ]
  },
  {
   "cell_type": "code",
   "execution_count": 37,
   "id": "7d8f29c5",
   "metadata": {},
   "outputs": [
    {
     "name": "stdout",
     "output_type": "stream",
     "text": [
      "+------------+\n",
      "|        team|\n",
      "+------------+\n",
      "|    흥국생명|\n",
      "|한국도로공사|\n",
      "|    GS칼텍스|\n",
      "|    현대건설|\n",
      "|페퍼저축은행|\n",
      "| KGC인삼공사|\n",
      "| IBK기업은행|\n",
      "+------------+\n",
      "\n"
     ]
    }
   ],
   "source": [
    "spark.sql(\"select distinct team from player\").show()"
   ]
  },
  {
   "cell_type": "code",
   "execution_count": 46,
   "id": "99bfc66a",
   "metadata": {},
   "outputs": [
    {
     "name": "stdout",
     "output_type": "stream",
     "text": [
      "+---+------+--------+---+------+-----+--------+------+-------+-------+--------+-------+------+-------+-------+-------+\n",
      "|_c0|  name|    team|pos| score|error|setcount|at_try|at_succ|sv_succ|set_succ|bl_succ|rs_try|rs_corr|rs_fail|dg_succ|\n",
      "+---+------+--------+---+------+-----+--------+------+-------+-------+--------+-------+------+-------+-------+-------+\n",
      "|  3|김연견|현대건설| Li|1099.0|    4|     113|     0|      0|      0|      89|      0|   477|    213|     26|    560|\n",
      "| 14|이영주|현대건설| Li|  62.2|    2|      21|     1|      0|      0|       4|      0|    15|      6|      2|     28|\n",
      "| 15|김주하|현대건설| Li|  59.8|    0|       5|     0|      0|      0|       5|      0|    24|     11|      3|     34|\n",
      "| 21|한미르|현대건설| Li|   1.4|    0|       1|     0|      0|      0|       0|      0|     0|      0|      0|      0|\n",
      "| 33|황민경|현대건설|  L|1815.0|   69|     112|   536|    171|     21|      28|     14|   527|    186|     22|    428|\n",
      "+---+------+--------+---+------+-----+--------+------+-------+-------+--------+-------+------+-------+-------+-------+\n",
      "only showing top 5 rows\n",
      "\n"
     ]
    }
   ],
   "source": [
    "hgun = spark.sql(\"\"\"\n",
    "          select *\n",
    "          from player\n",
    "          where team like '현대건설'\n",
    "          \"\"\")\n",
    "hgun.show(5)"
   ]
  },
  {
   "cell_type": "code",
   "execution_count": 41,
   "id": "c3ac699e",
   "metadata": {},
   "outputs": [
    {
     "name": "stdout",
     "output_type": "stream",
     "text": [
      "+---+------+------------+---+------+-----+--------+------+-------+-------+--------+-------+------+-------+-------+-------+\n",
      "|_c0|  name|        team|pos| score|error|setcount|at_try|at_succ|sv_succ|set_succ|bl_succ|rs_try|rs_corr|rs_fail|dg_succ|\n",
      "+---+------+------------+---+------+-----+--------+------+-------+-------+--------+-------+------+-------+-------+-------+\n",
      "|  1|임명옥|한국도로공사| Li|1475.0|    3|     117|     1|      0|      0|     123|      0|   677|    390|     16|    690|\n",
      "| 19|박혜미|한국도로공사| Li|   3.0|    0|       3|     0|      0|      0|       0|      0|     0|      0|      0|      0|\n",
      "| 22|김정아|한국도로공사| Li|   1.0|    0|       1|     0|      0|      0|       0|      0|     0|      0|      0|      0|\n",
      "| 30|박정아|한국도로공사|  L|2094.0|  113|     115|  1153|    393|     13|      13|     34|   141|     26|     16|    256|\n",
      "| 37|전새얀|한국도로공사|  L|1500.0|   49|     115|   510|    179|      7|      14|     39|   556|    163|     28|    192|\n",
      "+---+------+------------+---+------+-----+--------+------+-------+-------+--------+-------+------+-------+-------+-------+\n",
      "only showing top 5 rows\n",
      "\n"
     ]
    }
   ],
   "source": [
    "dogong = spark.sql(\"\"\"\n",
    "          select *\n",
    "          from player\n",
    "          where team like '한국도로공사'\n",
    "          \"\"\")\n",
    "dogong.show(5)"
   ]
  },
  {
   "cell_type": "code",
   "execution_count": 45,
   "id": "a0d533c2",
   "metadata": {
    "scrolled": false
   },
   "outputs": [
    {
     "name": "stdout",
     "output_type": "stream",
     "text": [
      "+---+------+--------+---+-----+-----+--------+------+-------+-------+--------+-------+------+-------+-------+-------+\n",
      "|_c0|  name|    team|pos|score|error|setcount|at_try|at_succ|sv_succ|set_succ|bl_succ|rs_try|rs_corr|rs_fail|dg_succ|\n",
      "+---+------+--------+---+-----+-----+--------+------+-------+-------+--------+-------+------+-------+-------+-------+\n",
      "|  4|오지영|GS칼텍스| Li|880.6|    2|      94|     1|      0|      0|      48|      0|   541|    249|     36|    375|\n",
      "| 11|한수진|GS칼텍스| Li|222.6|    0|      59|     0|      0|      0|      15|      0|     0|      0|      0|    133|\n",
      "| 12|한다혜|GS칼텍스| Li| 86.2|    0|      15|     0|      0|      0|       4|      0|    56|     29|      0|     24|\n",
      "| 18|김주희|GS칼텍스| Li|  3.0|    0|       3|     0|      0|      0|       0|      0|     0|      0|      0|      0|\n",
      "| 20|차유정|GS칼텍스| Li|  3.0|    0|       3|     0|      0|      0|       0|      0|     0|      0|      0|      0|\n",
      "+---+------+--------+---+-----+-----+--------+------+-------+-------+--------+-------+------+-------+-------+-------+\n",
      "only showing top 5 rows\n",
      "\n"
     ]
    }
   ],
   "source": [
    "gscal = spark.sql(\"\"\"\n",
    "          select *\n",
    "          from player\n",
    "          where team like 'GS칼텍스'\n",
    "          \"\"\")\n",
    "gscal.show(5)"
   ]
  },
  {
   "cell_type": "code",
   "execution_count": 42,
   "id": "652839e6",
   "metadata": {
    "scrolled": false
   },
   "outputs": [
    {
     "name": "stdout",
     "output_type": "stream",
     "text": [
      "+---+------+-----------+---+------+-----+--------+------+-------+-------+--------+-------+------+-------+-------+-------+\n",
      "|_c0|  name|       team|pos| score|error|setcount|at_try|at_succ|sv_succ|set_succ|bl_succ|rs_try|rs_corr|rs_fail|dg_succ|\n",
      "+---+------+-----------+---+------+-----+--------+------+-------+-------+--------+-------+------+-------+-------+-------+\n",
      "|  6|  노란|KGC인삼공사| Li| 819.8|    5|      83|     3|      0|      0|      54|      0|   357|    157|     12|    416|\n",
      "| 10|채선아|KGC인삼공사| Li| 331.2|    1|      37|     0|      0|      0|      25|      0|   183|     82|     10|    140|\n",
      "| 23|서유경|KGC인삼공사| Li|   1.0|    0|       1|     0|      0|      0|       0|      0|     0|      0|      0|      0|\n",
      "| 26|이소영|KGC인삼공사|  L|2311.4|  102|     105|   873|    310|     22|      32|     31|   616|    267|     23|    391|\n",
      "| 38|박혜민|KGC인삼공사|  L|1440.6|   68|      85|   486|    173|     11|      13|     16|   528|    182|     29|    251|\n",
      "+---+------+-----------+---+------+-----+--------+------+-------+-------+--------+-------+------+-------+-------+-------+\n",
      "only showing top 5 rows\n",
      "\n"
     ]
    }
   ],
   "source": [
    "insam = spark.sql(\"\"\"\n",
    "          select *\n",
    "          from player\n",
    "          where team like 'KGC인삼공사'\n",
    "          \"\"\")\n",
    "insam.show(5)"
   ]
  },
  {
   "cell_type": "code",
   "execution_count": 43,
   "id": "d724af52",
   "metadata": {
    "scrolled": false
   },
   "outputs": [
    {
     "name": "stdout",
     "output_type": "stream",
     "text": [
      "+---+------+-----------+---+------+-----+--------+------+-------+-------+--------+-------+------+-------+-------+-------+\n",
      "|_c0|  name|       team|pos| score|error|setcount|at_try|at_succ|sv_succ|set_succ|bl_succ|rs_try|rs_corr|rs_fail|dg_succ|\n",
      "+---+------+-----------+---+------+-----+--------+------+-------+-------+--------+-------+------+-------+-------+-------+\n",
      "|  2|신연경|IBK기업은행| Li|1158.6|    3|     112|     1|      0|      0|      67|      0|   525|    229|     22|    591|\n",
      "| 13|김수빈|IBK기업은행| Li|  83.6|    0|      26|     0|      0|      0|       2|      0|    15|      5|      1|     39|\n",
      "| 24|양유경|IBK기업은행| Li|   1.0|    0|       1|     0|      0|      0|       0|      0|     0|      0|      0|      0|\n",
      "| 28|표승주|IBK기업은행|  L|2175.4|   57|     102|   775|    285|     17|      24|     28|   755|    231|     30|    302|\n",
      "| 35|김주향|IBK기업은행|  L|1704.4|   76|      91|   721|    238|      8|      10|     20|   521|    163|     23|    267|\n",
      "+---+------+-----------+---+------+-----+--------+------+-------+-------+--------+-------+------+-------+-------+-------+\n",
      "only showing top 5 rows\n",
      "\n"
     ]
    }
   ],
   "source": [
    "ibk = spark.sql(\"\"\"\n",
    "          select *\n",
    "          from player\n",
    "          where team like 'IBK기업은행'\n",
    "          \"\"\")\n",
    "ibk.show(5)"
   ]
  },
  {
   "cell_type": "code",
   "execution_count": 44,
   "id": "5a09bdc5",
   "metadata": {
    "scrolled": true
   },
   "outputs": [
    {
     "name": "stdout",
     "output_type": "stream",
     "text": [
      "+---+------+--------+---+------+-----+--------+------+-------+-------+--------+-------+------+-------+-------+-------+\n",
      "|_c0|  name|    team|pos| score|error|setcount|at_try|at_succ|sv_succ|set_succ|bl_succ|rs_try|rs_corr|rs_fail|dg_succ|\n",
      "+---+------+--------+---+------+-----+--------+------+-------+-------+--------+-------+------+-------+-------+-------+\n",
      "|  7|김해란|흥국생명| Li| 596.4|    2|      58|     0|      0|      0|      59|      0|   211|     82|     16|    335|\n",
      "|  8|도수빈|흥국생명| Li| 589.2|    3|      60|     1|      0|      0|      38|      0|   271|    116|     12|    294|\n",
      "| 16|박상미|흥국생명| Li|  42.2|    0|      16|     0|      0|      0|       0|      0|     3|      1|      1|     23|\n",
      "| 25|현무린|흥국생명| Li|   1.0|    0|       1|     0|      0|      0|       0|      0|     0|      0|      0|      0|\n",
      "| 27|김미연|흥국생명|  L|2238.2|  102|     111|   751|    250|     27|      35|     21|   790|    251|     49|    406|\n",
      "+---+------+--------+---+------+-----+--------+------+-------+-------+--------+-------+------+-------+-------+-------+\n",
      "only showing top 5 rows\n",
      "\n"
     ]
    }
   ],
   "source": [
    "hguk = spark.sql(\"\"\"\n",
    "          select *\n",
    "          from player\n",
    "          where team like '흥국생명'\n",
    "          \"\"\")\n",
    "hguk.show(5)"
   ]
  },
  {
   "cell_type": "code",
   "execution_count": 52,
   "id": "27fc0359",
   "metadata": {
    "scrolled": false
   },
   "outputs": [
    {
     "name": "stdout",
     "output_type": "stream",
     "text": [
      "+---+------+------------+---+------+-----+--------+------+-------+-------+--------+-------+------+-------+-------+-------+\n",
      "|_c0|  name|        team|pos| score|error|setcount|at_try|at_succ|sv_succ|set_succ|bl_succ|rs_try|rs_corr|rs_fail|dg_succ|\n",
      "+---+------+------------+---+------+-----+--------+------+-------+-------+--------+-------+------+-------+-------+-------+\n",
      "|  5|문슬기|페퍼저축은행| Li| 841.8|    2|      99|     1|      0|      0|      69|      0|   568|    224|     42|    307|\n",
      "|  9|김세인|페퍼저축은행| Li| 334.4|    0|      84|     0|      0|      0|      19|      0|    36|     11|      0|    185|\n",
      "| 17|이은지|페퍼저축은행| Li|   7.8|    0|       4|     0|      0|      0|       0|      0|     0|      0|      0|      2|\n",
      "| 32|이한비|페퍼저축은행|  L|1930.4|   91|     105|   791|    238|     11|      21|     13|   695|    237|     33|    334|\n",
      "| 34|박경현|페퍼저축은행|  L|1714.8|   94|      96|   610|    217|     15|      22|     10|   741|    205|     41|    275|\n",
      "+---+------+------------+---+------+-----+--------+------+-------+-------+--------+-------+------+-------+-------+-------+\n",
      "only showing top 5 rows\n",
      "\n"
     ]
    }
   ],
   "source": [
    "pepper = spark.sql(\"\"\"\n",
    "          select *\n",
    "          from player\n",
    "          where team like '페퍼저축은행'\n",
    "          \"\"\")\n",
    "pepper.show(5)"
   ]
  },
  {
   "cell_type": "code",
   "execution_count": 56,
   "id": "9a5f7c06",
   "metadata": {
    "scrolled": false
   },
   "outputs": [
    {
     "name": "stdout",
     "output_type": "stream",
     "text": [
      "+------+------------+---+------+-----+--------+--------+-------+---+----+---+----+\n",
      "|  name|        team|pos| score|error|setcount|at_srate|rs_rate| sv| set| bl|  dg|\n",
      "+------+------------+---+------+-----+--------+--------+-------+---+----+---+----+\n",
      "|임명옥|한국도로공사| Li|1475.0|    3|     117|     0.0|   0.55|0.0|1.05|0.0| 5.9|\n",
      "|신연경| IBK기업은행| Li|1158.6|    3|     112|     0.0|   0.39|0.0| 0.6|0.0|5.28|\n",
      "|김연견|    현대건설| Li|1099.0|    4|     113|    null|   0.39|0.0|0.79|0.0|4.96|\n",
      "|오지영|    GS칼텍스| Li| 880.6|    2|      94|     0.0|   0.39|0.0|0.51|0.0|3.99|\n",
      "|문슬기|페퍼저축은행| Li| 841.8|    2|      99|     0.0|   0.32|0.0| 0.7|0.0| 3.1|\n",
      "|  노란| KGC인삼공사| Li| 819.8|    5|      83|     0.0|   0.41|0.0|0.65|0.0|5.01|\n",
      "|김해란|    흥국생명| Li| 596.4|    2|      58|    null|   0.31|0.0|1.02|0.0|5.78|\n",
      "|도수빈|    흥국생명| Li| 589.2|    3|      60|     0.0|   0.38|0.0|0.63|0.0| 4.9|\n",
      "|김세인|페퍼저축은행| Li| 334.4|    0|      84|    null|   0.31|0.0|0.23|0.0| 2.2|\n",
      "|채선아| KGC인삼공사| Li| 331.2|    1|      37|    null|   0.39|0.0|0.68|0.0|3.78|\n",
      "|한수진|    GS칼텍스| Li| 222.6|    0|      59|    null|   null|0.0|0.25|0.0|2.25|\n",
      "|한다혜|    GS칼텍스| Li|  86.2|    0|      15|    null|   0.52|0.0|0.27|0.0| 1.6|\n",
      "|김수빈| IBK기업은행| Li|  83.6|    0|      26|    null|   0.27|0.0|0.08|0.0| 1.5|\n",
      "|이영주|    현대건설| Li|  62.2|    2|      21|     0.0|   0.27|0.0|0.19|0.0|1.33|\n",
      "|김주하|    현대건설| Li|  59.8|    0|       5|    null|   0.33|0.0| 1.0|0.0| 6.8|\n",
      "|박상미|    흥국생명| Li|  42.2|    0|      16|    null|    0.0|0.0| 0.0|0.0|1.44|\n",
      "|이은지|페퍼저축은행| Li|   7.8|    0|       4|    null|   null|0.0| 0.0|0.0| 0.5|\n",
      "|김주희|    GS칼텍스| Li|   3.0|    0|       3|    null|   null|0.0| 0.0|0.0| 0.0|\n",
      "|박혜미|한국도로공사| Li|   3.0|    0|       3|    null|   null|0.0| 0.0|0.0| 0.0|\n",
      "|차유정|    GS칼텍스| Li|   3.0|    0|       3|    null|   null|0.0| 0.0|0.0| 0.0|\n",
      "+------+------------+---+------+-----+--------+--------+-------+---+----+---+----+\n",
      "only showing top 20 rows\n",
      "\n"
     ]
    }
   ],
   "source": [
    "# 공성, 공효(보류), 리효, 세트당 서브/세트/블로킹/디그 계산\n",
    "\n",
    "player_rate = spark.sql(\"\"\"\n",
    "          select name,team,pos,score,error,setcount,round(at_succ/at_try,2) as at_srate,\n",
    "              round((rs_corr-rs_fail)/rs_try,2) as rs_rate, round(sv_succ/setcount,2) as sv, \n",
    "              round(set_succ/setcount,2) as set,round(bl_succ/setcount,2) as bl,round(dg_succ/setcount,2) as dg\n",
    "          from player\n",
    "          \"\"\")\n",
    "\n",
    "player_rate.show()"
   ]
  },
  {
   "cell_type": "code",
   "execution_count": 58,
   "id": "b9d4b878",
   "metadata": {},
   "outputs": [],
   "source": [
    "player_rate.createOrReplaceTempView(\"player_rate\")"
   ]
  },
  {
   "cell_type": "code",
   "execution_count": 59,
   "id": "157d8728",
   "metadata": {},
   "outputs": [
    {
     "name": "stdout",
     "output_type": "stream",
     "text": [
      "+------+--------+---+------+-----+--------+--------+-------+----+----+----+----+\n",
      "|  name|    team|pos| score|error|setcount|at_srate|rs_rate|  sv| set|  bl|  dg|\n",
      "+------+--------+---+------+-----+--------+--------+-------+----+----+----+----+\n",
      "|김연견|현대건설| Li|1099.0|    4|     113|    null|   0.39| 0.0|0.79| 0.0|4.96|\n",
      "|이영주|현대건설| Li|  62.2|    2|      21|     0.0|   0.27| 0.0|0.19| 0.0|1.33|\n",
      "|김주하|현대건설| Li|  59.8|    0|       5|    null|   0.33| 0.0| 1.0| 0.0| 6.8|\n",
      "|한미르|현대건설| Li|   1.4|    0|       1|    null|   null| 0.0| 0.0| 0.0| 0.0|\n",
      "|황민경|현대건설|  L|1815.0|   69|     112|    0.32|   0.31|0.19|0.25|0.13|3.82|\n",
      "+------+--------+---+------+-----+--------+--------+-------+----+----+----+----+\n",
      "only showing top 5 rows\n",
      "\n"
     ]
    }
   ],
   "source": [
    "hgun_rate = spark.sql(\"\"\"\n",
    "          select *\n",
    "          from player_rate\n",
    "          where team like '현대건설'\n",
    "          \"\"\")\n",
    "hgun_rate.show(5)"
   ]
  },
  {
   "cell_type": "code",
   "execution_count": 60,
   "id": "62676776",
   "metadata": {},
   "outputs": [
    {
     "name": "stdout",
     "output_type": "stream",
     "text": [
      "+------+------------+---+------+-----+--------+--------+-------+----+----+----+----+\n",
      "|  name|        team|pos| score|error|setcount|at_srate|rs_rate|  sv| set|  bl|  dg|\n",
      "+------+------------+---+------+-----+--------+--------+-------+----+----+----+----+\n",
      "|임명옥|한국도로공사| Li|1475.0|    3|     117|     0.0|   0.55| 0.0|1.05| 0.0| 5.9|\n",
      "|박혜미|한국도로공사| Li|   3.0|    0|       3|    null|   null| 0.0| 0.0| 0.0| 0.0|\n",
      "|김정아|한국도로공사| Li|   1.0|    0|       1|    null|   null| 0.0| 0.0| 0.0| 0.0|\n",
      "|박정아|한국도로공사|  L|2094.0|  113|     115|    0.34|   0.07|0.11|0.11| 0.3|2.23|\n",
      "|전새얀|한국도로공사|  L|1500.0|   49|     115|    0.35|   0.24|0.06|0.12|0.34|1.67|\n",
      "+------+------------+---+------+-----+--------+--------+-------+----+----+----+----+\n",
      "only showing top 5 rows\n",
      "\n"
     ]
    }
   ],
   "source": [
    "dogong_rate = spark.sql(\"\"\"\n",
    "          select *\n",
    "          from player_rate\n",
    "          where team like '한국도로공사'\n",
    "          \"\"\")\n",
    "dogong_rate.show(5)"
   ]
  },
  {
   "cell_type": "code",
   "execution_count": 61,
   "id": "4d3b4385",
   "metadata": {},
   "outputs": [
    {
     "name": "stdout",
     "output_type": "stream",
     "text": [
      "+------+--------+---+-----+-----+--------+--------+-------+---+----+---+----+\n",
      "|  name|    team|pos|score|error|setcount|at_srate|rs_rate| sv| set| bl|  dg|\n",
      "+------+--------+---+-----+-----+--------+--------+-------+---+----+---+----+\n",
      "|오지영|GS칼텍스| Li|880.6|    2|      94|     0.0|   0.39|0.0|0.51|0.0|3.99|\n",
      "|한수진|GS칼텍스| Li|222.6|    0|      59|    null|   null|0.0|0.25|0.0|2.25|\n",
      "|한다혜|GS칼텍스| Li| 86.2|    0|      15|    null|   0.52|0.0|0.27|0.0| 1.6|\n",
      "|김주희|GS칼텍스| Li|  3.0|    0|       3|    null|   null|0.0| 0.0|0.0| 0.0|\n",
      "|차유정|GS칼텍스| Li|  3.0|    0|       3|    null|   null|0.0| 0.0|0.0| 0.0|\n",
      "+------+--------+---+-----+-----+--------+--------+-------+---+----+---+----+\n",
      "only showing top 5 rows\n",
      "\n"
     ]
    }
   ],
   "source": [
    "gscal_rate = spark.sql(\"\"\"\n",
    "          select *\n",
    "          from player_rate\n",
    "          where team like 'GS칼텍스'\n",
    "          \"\"\")\n",
    "gscal_rate.show(5)"
   ]
  },
  {
   "cell_type": "code",
   "execution_count": 62,
   "id": "3ff1591e",
   "metadata": {},
   "outputs": [
    {
     "name": "stdout",
     "output_type": "stream",
     "text": [
      "+------+-----------+---+------+-----+--------+--------+-------+----+----+----+----+\n",
      "|  name|       team|pos| score|error|setcount|at_srate|rs_rate|  sv| set|  bl|  dg|\n",
      "+------+-----------+---+------+-----+--------+--------+-------+----+----+----+----+\n",
      "|  노란|KGC인삼공사| Li| 819.8|    5|      83|     0.0|   0.41| 0.0|0.65| 0.0|5.01|\n",
      "|채선아|KGC인삼공사| Li| 331.2|    1|      37|    null|   0.39| 0.0|0.68| 0.0|3.78|\n",
      "|서유경|KGC인삼공사| Li|   1.0|    0|       1|    null|   null| 0.0| 0.0| 0.0| 0.0|\n",
      "|이소영|KGC인삼공사|  L|2311.4|  102|     105|    0.36|    0.4|0.21| 0.3| 0.3|3.72|\n",
      "|박혜민|KGC인삼공사|  L|1440.6|   68|      85|    0.36|   0.29|0.13|0.15|0.19|2.95|\n",
      "+------+-----------+---+------+-----+--------+--------+-------+----+----+----+----+\n",
      "only showing top 5 rows\n",
      "\n"
     ]
    }
   ],
   "source": [
    "insam_rate = spark.sql(\"\"\"\n",
    "          select *\n",
    "          from player_rate\n",
    "          where team like 'KGC인삼공사'\n",
    "          \"\"\")\n",
    "insam_rate.show(5)"
   ]
  },
  {
   "cell_type": "code",
   "execution_count": 63,
   "id": "15e7b23a",
   "metadata": {},
   "outputs": [
    {
     "name": "stdout",
     "output_type": "stream",
     "text": [
      "+------+-----------+---+------+-----+--------+--------+-------+----+----+----+----+\n",
      "|  name|       team|pos| score|error|setcount|at_srate|rs_rate|  sv| set|  bl|  dg|\n",
      "+------+-----------+---+------+-----+--------+--------+-------+----+----+----+----+\n",
      "|신연경|IBK기업은행| Li|1158.6|    3|     112|     0.0|   0.39| 0.0| 0.6| 0.0|5.28|\n",
      "|김수빈|IBK기업은행| Li|  83.6|    0|      26|    null|   0.27| 0.0|0.08| 0.0| 1.5|\n",
      "|양유경|IBK기업은행| Li|   1.0|    0|       1|    null|   null| 0.0| 0.0| 0.0| 0.0|\n",
      "|표승주|IBK기업은행|  L|2175.4|   57|     102|    0.37|   0.27|0.17|0.24|0.27|2.96|\n",
      "|김주향|IBK기업은행|  L|1704.4|   76|      91|    0.33|   0.27|0.09|0.11|0.22|2.93|\n",
      "+------+-----------+---+------+-----+--------+--------+-------+----+----+----+----+\n",
      "only showing top 5 rows\n",
      "\n"
     ]
    }
   ],
   "source": [
    "ibk_rate = spark.sql(\"\"\"\n",
    "          select *\n",
    "          from player_rate\n",
    "          where team like 'IBK기업은행'\n",
    "          \"\"\")\n",
    "ibk_rate.show(5)"
   ]
  },
  {
   "cell_type": "code",
   "execution_count": 64,
   "id": "51fe994e",
   "metadata": {},
   "outputs": [
    {
     "name": "stdout",
     "output_type": "stream",
     "text": [
      "+------+--------+---+------+-----+--------+--------+-------+----+----+----+----+\n",
      "|  name|    team|pos| score|error|setcount|at_srate|rs_rate|  sv| set|  bl|  dg|\n",
      "+------+--------+---+------+-----+--------+--------+-------+----+----+----+----+\n",
      "|김해란|흥국생명| Li| 596.4|    2|      58|    null|   0.31| 0.0|1.02| 0.0|5.78|\n",
      "|도수빈|흥국생명| Li| 589.2|    3|      60|     0.0|   0.38| 0.0|0.63| 0.0| 4.9|\n",
      "|박상미|흥국생명| Li|  42.2|    0|      16|    null|    0.0| 0.0| 0.0| 0.0|1.44|\n",
      "|현무린|흥국생명| Li|   1.0|    0|       1|    null|   null| 0.0| 0.0| 0.0| 0.0|\n",
      "|김미연|흥국생명|  L|2238.2|  102|     111|    0.33|   0.26|0.24|0.32|0.19|3.66|\n",
      "+------+--------+---+------+-----+--------+--------+-------+----+----+----+----+\n",
      "only showing top 5 rows\n",
      "\n"
     ]
    }
   ],
   "source": [
    "hguk_rate = spark.sql(\"\"\"\n",
    "          select *\n",
    "          from player_rate\n",
    "          where team like '흥국생명'\n",
    "          \"\"\")\n",
    "hguk_rate.show(5)"
   ]
  },
  {
   "cell_type": "code",
   "execution_count": 65,
   "id": "7ed64b43",
   "metadata": {},
   "outputs": [
    {
     "name": "stdout",
     "output_type": "stream",
     "text": [
      "+------+------------+---+------+-----+--------+--------+-------+----+----+----+----+\n",
      "|  name|        team|pos| score|error|setcount|at_srate|rs_rate|  sv| set|  bl|  dg|\n",
      "+------+------------+---+------+-----+--------+--------+-------+----+----+----+----+\n",
      "|문슬기|페퍼저축은행| Li| 841.8|    2|      99|     0.0|   0.32| 0.0| 0.7| 0.0| 3.1|\n",
      "|김세인|페퍼저축은행| Li| 334.4|    0|      84|    null|   0.31| 0.0|0.23| 0.0| 2.2|\n",
      "|이은지|페퍼저축은행| Li|   7.8|    0|       4|    null|   null| 0.0| 0.0| 0.0| 0.5|\n",
      "|이한비|페퍼저축은행|  L|1930.4|   91|     105|     0.3|   0.29| 0.1| 0.2|0.12|3.18|\n",
      "|박경현|페퍼저축은행|  L|1714.8|   94|      96|    0.36|   0.22|0.16|0.23| 0.1|2.86|\n",
      "+------+------------+---+------+-----+--------+--------+-------+----+----+----+----+\n",
      "only showing top 5 rows\n",
      "\n"
     ]
    }
   ],
   "source": [
    "pepper_rate = spark.sql(\"\"\"\n",
    "          select *\n",
    "          from player_rate\n",
    "          where team like '페퍼저축은행'\n",
    "          \"\"\")\n",
    "pepper_rate.show(5)"
   ]
  },
  {
   "cell_type": "code",
   "execution_count": 86,
   "id": "4c1f2127",
   "metadata": {},
   "outputs": [],
   "source": [
    "# 선수 데이터 저장 - 하둡\n",
    "\n",
    "player_rate.write.format('csv').save('hdfs://localhost:9000/data/player_r.csv',header='true')"
   ]
  },
  {
   "cell_type": "code",
   "execution_count": 88,
   "id": "60b37795",
   "metadata": {},
   "outputs": [
    {
     "name": "stdout",
     "output_type": "stream",
     "text": [
      "+------+------------+---+------+-----+--------+--------+-------+---+----+---+----+\n",
      "|  name|        team|pos| score|error|setcount|at_srate|rs_rate| sv| set| bl|  dg|\n",
      "+------+------------+---+------+-----+--------+--------+-------+---+----+---+----+\n",
      "|임명옥|한국도로공사| Li|1475.0|    3|     117|     0.0|   0.55|0.0|1.05|0.0| 5.9|\n",
      "|신연경| IBK기업은행| Li|1158.6|    3|     112|     0.0|   0.39|0.0| 0.6|0.0|5.28|\n",
      "|김연견|    현대건설| Li|1099.0|    4|     113|    null|   0.39|0.0|0.79|0.0|4.96|\n",
      "|오지영|    GS칼텍스| Li| 880.6|    2|      94|     0.0|   0.39|0.0|0.51|0.0|3.99|\n",
      "|문슬기|페퍼저축은행| Li| 841.8|    2|      99|     0.0|   0.32|0.0| 0.7|0.0| 3.1|\n",
      "+------+------------+---+------+-----+--------+--------+-------+---+----+---+----+\n",
      "only showing top 5 rows\n",
      "\n"
     ]
    }
   ],
   "source": [
    "data = spark.read.csv(\"hdfs://localhost:9000/data/player_r.csv\", header='true', inferSchema='true')\n",
    "data.show(5)"
   ]
  },
  {
   "cell_type": "code",
   "execution_count": 81,
   "id": "7044f1d7",
   "metadata": {},
   "outputs": [],
   "source": [
    "# 구단별 데이터 저장 - 하둡\n",
    "\n",
    "hgun_rate.write.format('csv').save('hdfs://localhost:9000/data/hgun_r.csv',header='true')\n",
    "dogong_rate.write.format('csv').save('hdfs://localhost:9000/data/dogong_r.csv',header='true')\n",
    "gscal_rate.write.format('csv').save('hdfs://localhost:9000/data/gscal_r.csv',header='true')\n",
    "insam_rate.write.format('csv').save('hdfs://localhost:9000/data/insam_r.csv',header='true')\n",
    "ibk_rate.write.format('csv').save('hdfs://localhost:9000/data/ibk_r.csv',header='true')\n",
    "hguk_rate.write.format('csv').save('hdfs://localhost:9000/data/hguk_r.csv',header='true')\n",
    "pepper_rate.write.format('csv').save('hdfs://localhost:9000/data/pepper_r.csv',header='true')"
   ]
  },
  {
   "cell_type": "code",
   "execution_count": 85,
   "id": "01b6341a",
   "metadata": {},
   "outputs": [
    {
     "name": "stdout",
     "output_type": "stream",
     "text": [
      "+------+------------+---+------+-----+--------+--------+-------+----+----+----+----+\n",
      "|  name|        team|pos| score|error|setcount|at_srate|rs_rate|  sv| set|  bl|  dg|\n",
      "+------+------------+---+------+-----+--------+--------+-------+----+----+----+----+\n",
      "|문슬기|페퍼저축은행| Li| 841.8|    2|      99|     0.0|   0.32| 0.0| 0.7| 0.0| 3.1|\n",
      "|김세인|페퍼저축은행| Li| 334.4|    0|      84|    null|   0.31| 0.0|0.23| 0.0| 2.2|\n",
      "|이은지|페퍼저축은행| Li|   7.8|    0|       4|    null|   null| 0.0| 0.0| 0.0| 0.5|\n",
      "|이한비|페퍼저축은행|  L|1930.4|   91|     105|     0.3|   0.29| 0.1| 0.2|0.12|3.18|\n",
      "|박경현|페퍼저축은행|  L|1714.8|   94|      96|    0.36|   0.22|0.16|0.23| 0.1|2.86|\n",
      "+------+------------+---+------+-----+--------+--------+-------+----+----+----+----+\n",
      "only showing top 5 rows\n",
      "\n"
     ]
    }
   ],
   "source": [
    "# 데이터 잘 저장됐는지 확인\n",
    "\n",
    "data = spark.read.csv(\"hdfs://localhost:9000/data/pepper_r.csv\", header='true', inferSchema=\"true\")\n",
    "data.show(5)"
   ]
  },
  {
   "cell_type": "markdown",
   "id": "4f0b5c59",
   "metadata": {},
   "source": [
    "## 데이터 모델 생성 - 22/"
   ]
  },
  {
   "cell_type": "code",
   "execution_count": null,
   "id": "65ef3afa",
   "metadata": {},
   "outputs": [],
   "source": []
  },
  {
   "cell_type": "code",
   "execution_count": null,
   "id": "62e895b0",
   "metadata": {},
   "outputs": [],
   "source": []
  }
 ],
 "metadata": {
  "kernelspec": {
   "display_name": "Python 3 (ipykernel)",
   "language": "python",
   "name": "python3"
  },
  "language_info": {
   "codemirror_mode": {
    "name": "ipython",
    "version": 3
   },
   "file_extension": ".py",
   "mimetype": "text/x-python",
   "name": "python",
   "nbconvert_exporter": "python",
   "pygments_lexer": "ipython3",
   "version": "3.7.4"
  }
 },
 "nbformat": 4,
 "nbformat_minor": 5
}
